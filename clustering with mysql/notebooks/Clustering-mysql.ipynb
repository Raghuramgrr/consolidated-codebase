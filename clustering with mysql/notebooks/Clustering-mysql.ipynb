{
 "cells": [
  {
   "cell_type": "code",
   "execution_count": 5,
   "metadata": {
    "collapsed": true
   },
   "outputs": [],
   "source": [
    "import MySQLdb\n",
    "import pandas as pd\n",
    "import numpy as np\n",
    "from pandas import DataFrame, Series\n",
    "import six\n",
    "from sklearn.cross_validation import train_test_split\n",
    "import itertools\n",
    "from operator import itemgetter\n",
    "import collections \n",
    "from sklearn.cluster import KMeans \n",
    "import matplotlib.pylab as plt\n",
    "import time\n",
    "import traceback\n",
    "import datetime\n",
    "from datetime import datetime"
   ]
  },
  {
   "cell_type": "code",
   "execution_count": 6,
   "metadata": {
    "collapsed": true
   },
   "outputs": [],
   "source": [
    "def insertClusters(df_month,freq,mysql_cn, execution_date):\n",
    "    mysql_cn_write =mysql_cn\n",
    "    parameters = df_month.to_dict(orient='records')\n",
    "    x = mysql_cn_write.cursor()\n",
    "    df=df_month\n",
    "    try:\n",
    "        for P in range(0,len(freq)):\n",
    "            x.execute(\"\"\"INSERT INTO CLUSTERS(ALGORITHM_ID, CLUSTER_GROUP,FREQUENCY_CENTROID,AMOUNT_CENTROID,TIME_STAMP) VALUES(%s,%s,%s,%s,%s)\"\"\",(1, P,round(freq[P][0],2),round(freq[P][1],2),execution_date))\n",
    "        mysql_cn_write.commit()\n",
    "    except Exception as e:\n",
    "        print 'insert fail',e\n",
    "        mysql_cn_write.rollback()"
   ]
  },
  {
   "cell_type": "code",
   "execution_count": 7,
   "metadata": {
    "collapsed": true
   },
   "outputs": [],
   "source": [
    "def insertCustClusters(df_month,mysql_c,m):\n",
    "    mysql_cn_write =mysql_cn\n",
    "    parameters = df_month.to_dict(orient='records')  \n",
    "    x = mysql_cn_write.cursor()\n",
    "    df=df_month\n",
    "    df_cid=pd.read_sql(\"select ID,CLUSTER_GROUP from CLUSTERS where TIME_STAMP='\"+str(m)+\"'\",con=mysql_cn_write)\n",
    "    IDS = df_cid.to_dict(orient='records')\n",
    "    df_month[\"CUST\"] = df_month.index\n",
    "    \n",
    "    try:\n",
    "        for P in df_month.values:\n",
    "            for ID in IDS:\n",
    "                if int(P[3]) == int(ID['CLUSTER_GROUP']):\n",
    "                    x.execute(\"\"\"INSERT INTO CUSTOMER_CLUSTERS(CUST_ID,CLUSTER_ID,FREQUENCY,AMOUNT) VALUES(%s,%s ,%s,%s)\"\"\",(int(P[4]),ID['ID'],round(P[0],2),round(P[1],2)))   \n",
    "        mysql_cn_write.commit()\n",
    "    except Exception as e:\n",
    "        print 'insert fail',e\n",
    "        mysql_cn_write.rollback()\n",
    "    "
   ]
  },
  {
   "cell_type": "code",
   "execution_count": 8,
   "metadata": {
    "collapsed": true
   },
   "outputs": [],
   "source": [
    "from sklearn import preprocessing\n",
    "min_max_scaler = preprocessing.MinMaxScaler()\n",
    "from scipy.spatial.distance import cdist\n",
    "\n",
    "def kmeans_bymonth(df_mysql_freq,k,m,mysql_cn):\n",
    "    clus_train = df_mysql_freq.as_matrix()\n",
    "    clus_train=min_max_scaler.fit_transform(clus_train)\n",
    "    cust_ids =  clus_train[:,0]\n",
    "    cust_ids = min_max_scaler.fit_transform(cust_ids)\n",
    "    clus_train = df_mysql_freq.drop('AVG(amount)', axis=1)\n",
    "    model=KMeans(n_clusters=k)\n",
    "    model.fit(clus_train)\n",
    "    freq_center = model.cluster_centers_\n",
    "    labels=model.labels_\n",
    "    clusassign=model.predict(clus_train)\n",
    "    results = pd.DataFrame(data=labels, columns=['cluster'])\n",
    "    results = results.groupby(['cluster']).size().reset_index(name='Mean_Count')\n",
    "    df_mysql_freq['CLUSTER-ID'] = Series(clusassign, index=df_mysql_freq.index)\n",
    "    execution_date = str(datetime.today()).split(\".\")[0]\n",
    "    insertClusters(df_mysql_freq,freq_center,mysql_cn,execution_date)\n",
    "    insertCustClusters(df_mysql_freq,mysql_cn,execution_date)\n",
    "    return df_mysql_freq\n",
    "\n",
    "    "
   ]
  },
  {
   "cell_type": "code",
   "execution_count": 13,
   "metadata": {
    "scrolled": false
   },
   "outputs": [
    {
     "name": "stderr",
     "output_type": "stream",
     "text": [
      "/home/ab/anaconda2/lib/python2.7/site-packages/sklearn/preprocessing/data.py:321: DeprecationWarning: Passing 1d arrays as data is deprecated in 0.17 and will raise ValueError in 0.19. Reshape your data either using X.reshape(-1, 1) if your data has a single feature or X.reshape(1, -1) if it contains a single sample.\n",
      "  warnings.warn(DEPRECATION_MSG_1D, DeprecationWarning)\n",
      "/home/ab/anaconda2/lib/python2.7/site-packages/sklearn/preprocessing/data.py:356: DeprecationWarning: Passing 1d arrays as data is deprecated in 0.17 and will raise ValueError in 0.19. Reshape your data either using X.reshape(-1, 1) if your data has a single feature or X.reshape(1, -1) if it contains a single sample.\n",
      "  warnings.warn(DEPRECATION_MSG_1D, DeprecationWarning)\n"
     ]
    },
    {
     "name": "stdout",
     "output_type": "stream",
     "text": [
      "         AVG(freq)  AVG(amount)  AVG(weight)  CLUSTER-ID  CUST\n",
      "CUST_ID                                                       \n",
      "26        2.000000   213.025000   426.050000           2    26\n",
      "59        2.500000   148.337917   385.506667           2    59\n",
      "65        1.333333   170.638333   232.483333           0    65\n",
      "178       1.200000   123.125000   143.720000           0   178\n",
      "224       3.333333   427.763472  1344.806666           1   224\n",
      "236       1.000000    82.530000    82.530000           0   236\n",
      "239       1.333333    83.870000    96.143333           0   239\n",
      "248       4.166667   379.235361  1565.716667           1   248\n",
      "275       1.000000   346.870000   346.870000           2   275\n",
      "307       1.333333    68.145000    87.920000           0   307\n",
      "317       2.500000   114.597083   275.006667           0   317\n",
      "319       2.200000   158.937667   363.982000           2   319\n",
      "324       1.000000   137.647500   137.647500           0   324\n",
      "325       2.833333   281.851528   770.638334           1   325\n",
      "326       1.000000   141.002500   141.002500           0   326\n",
      "327       1.000000   240.460000   240.460000           0   327\n",
      "329       2.000000   324.250000   648.500000           2   329\n",
      "332       1.600000   316.899000   468.268000           2   332\n",
      "334       2.250000   185.667083   417.342500           2   334\n",
      "335       3.500000   118.769555   424.941667           2   335\n",
      "336       1.000000   167.977500   167.977500           0   336\n",
      "348       2.400000   253.083667   594.936000           2   348\n",
      "350       1.250000   337.032500   447.282500           2   350\n",
      "351       2.600000   365.087167   972.134000           1   351\n",
      "352       1.500000   165.535000   227.760000           0   352\n",
      "353       1.250000   140.575000   160.017500           0   353\n",
      "354       1.600000   741.023667  1336.128000           1   354\n",
      "357       1.000000   249.847500   249.847500           0   357\n",
      "358       1.666667   309.051111   495.320000           2   358\n",
      "361       3.000000   405.276667  1215.830001           1   361\n",
      "...            ...          ...          ...         ...   ...\n",
      "7080      1.000000    56.200000    56.200000           0  7080\n",
      "7082      1.000000    54.000000    54.000000           0  7082\n",
      "7085      1.000000    34.000000    34.000000           0  7085\n",
      "7086      1.000000    97.770000    97.770000           0  7086\n",
      "7089      1.000000    56.520000    56.520000           0  7089\n",
      "7091      1.000000    61.820000    61.820000           0  7091\n",
      "7092      1.000000    47.110000    47.110000           0  7092\n",
      "7094      1.000000    88.920000    88.920000           0  7094\n",
      "7095      1.000000   101.350000   101.350000           0  7095\n",
      "7096      1.000000   333.550000   333.550000           2  7096\n",
      "7097      1.000000    71.850000    71.850000           0  7097\n",
      "7098      1.000000   251.050000   251.050000           0  7098\n",
      "7103      1.000000   124.740000   124.740000           0  7103\n",
      "7106      1.000000   308.080000   308.080000           2  7106\n",
      "7107      1.000000   121.040000   121.040000           0  7107\n",
      "7108      1.000000   126.620000   126.620000           0  7108\n",
      "7110      1.000000    71.890000    71.890000           0  7110\n",
      "7112      1.000000    32.760000    32.760000           0  7112\n",
      "7113      1.000000   408.920000   408.920000           2  7113\n",
      "7114      1.000000    38.500000    38.500000           0  7114\n",
      "7117      1.000000   433.230000   433.230000           2  7117\n",
      "7118      1.000000   105.960000   105.960000           0  7118\n",
      "7122      1.000000    47.600000    47.600000           0  7122\n",
      "7123      1.000000     0.000000     0.000000           0  7123\n",
      "7124      1.000000    68.380000    68.380000           0  7124\n",
      "7125      1.000000    70.620000    70.620000           0  7125\n",
      "7126      1.000000   163.300000   163.300000           0  7126\n",
      "7127      1.000000    50.400000    50.400000           0  7127\n",
      "7129      1.000000    62.400000    62.400000           0  7129\n",
      "7132      1.000000   131.600000   131.600000           0  7132\n",
      "\n",
      "[3092 rows x 5 columns]\n"
     ]
    }
   ],
   "source": [
    "#Extract data from the mysql table\n",
    "#store in pandas - df\n",
    "\n",
    "\n",
    "from sklearn.cluster import KMeans\n",
    "mysql_cn= MySQLdb.connect(host='localhost', \n",
    "                port=3306,user='root', passwd='122', \n",
    "                db='cluster')\n",
    "\n",
    "df_mysql_freq=pd.read_sql('SELECT CUST_ID, AVG(freq), AVG(amount),tmonth from (SELECT CUST_ID, DATE_FORMAT(COM_DELIVERDATE, \"%Y/%m\") as tmonth, COUNT(*) as freq, SUM(BILLING_COMMAND)/count(*) as amount FROM COMMAND_POST_PROCESSED where COM_DELIVERDATE>= DATE(NOW() - INTERVAL 6 MONTH) GROUP BY CUST_ID, tmonth order by CUST_ID, tmonth)T where CUST_ID != 2750 and CUST_ID != 1 and CUST_ID != 4188  group by CUST_ID,tmonth',con=mysql_cn)\n",
    "df_mysql_freq.set_index(['CUST_ID'])\n",
    "df_month=[]\n",
    "values = df_mysql_freq['AVG(freq)'] * df_mysql_freq['AVG(amount)']\n",
    "df_mysql_freq['AVG(weight)'] = Series(values, index=df_mysql_freq.index)\n",
    "df_mysql_freq['tmonth'] = pd.to_datetime(df_mysql_freq['tmonth'],yearfirst=True,format='%Y/%m', errors='ignore')\n",
    "\n",
    "#GROUP BY CUST_ID\n",
    "df_mysql_freq = df_mysql_freq.groupby(['CUST_ID']).mean()\n",
    "df_month =kmeans_bymonth(df_mysql_freq,4,datetime.today(),mysql_cn)\n",
    "print df_month\n"
   ]
  },
  {
   "cell_type": "code",
   "execution_count": 5,
   "metadata": {
    "collapsed": true
   },
   "outputs": [],
   "source": [
    "def plot_everyk(clust_train,labels,k):\n",
    "    plt.scatter(x=clust_train.ix[:,1], y=clust_train.ix[:,0], c=labels,)\n",
    "    plt.xlabel('var 1')\n",
    "    plt.ylabel('var 2')\n",
    "    plt.title('scatter plot for %d Clusters'%k)\n",
    "    #plt.show()\n",
    "\n"
   ]
  },
  {
   "cell_type": "code",
   "execution_count": 16,
   "metadata": {
    "scrolled": true
   },
   "outputs": [
    {
     "data": {
      "text/plain": [
       "2    30\n",
       "0     2\n",
       "dtype: int64"
      ]
     },
     "execution_count": 16,
     "metadata": {},
     "output_type": "execute_result"
    }
   ],
   "source": [
    "valid_clusters =[442,495,511,540,580,616,767,802,1192,1262,1300,1404,1461,1526,1584,1680,1755,1801,1939,2099,2327,2454,2506,2606,2607,2801,2981,3617,3650,3785,4291,4808]\n",
    "list_custid=[]\n",
    "groups = df_month.groupby(['CLUSTER-ID','CUST_ID'])\n",
    "parameters = df_mysql_freq.to_dict(orient='records')\n",
    "for custid,cluster in groups:\n",
    "    #print custid\n",
    "    #print groups.size()\n",
    "    if custid[1] in valid_clusters:\n",
    "        #print custid[0],\"\\t\",custid[1],\"\\t\",cluster['AVG(weight)']\n",
    "        list_custid.append(custid[0])\n",
    "pd.Series(list_custid).value_counts()"
   ]
  },
  {
   "cell_type": "code",
   "execution_count": null,
   "metadata": {
    "collapsed": true
   },
   "outputs": [],
   "source": []
  }
 ],
 "metadata": {
  "kernelspec": {
   "display_name": "Python 2",
   "language": "python",
   "name": "python2"
  },
  "language_info": {
   "codemirror_mode": {
    "name": "ipython",
    "version": 2
   },
   "file_extension": ".py",
   "mimetype": "text/x-python",
   "name": "python",
   "nbconvert_exporter": "python",
   "pygments_lexer": "ipython2",
   "version": "2.7.13"
  }
 },
 "nbformat": 4,
 "nbformat_minor": 2
}
