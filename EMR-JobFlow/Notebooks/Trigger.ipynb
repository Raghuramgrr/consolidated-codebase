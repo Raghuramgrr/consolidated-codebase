{
 "cells": [
  {
   "cell_type": "code",
   "execution_count": 2,
   "metadata": {
    "collapsed": true
   },
   "outputs": [],
   "source": [
    "import json\n",
    "import boto3\n",
    "import sys\n",
    "s3 = boto3.resource('s3')\n",
    "emr_client = boto3.client('emr')\n",
    "client = boto3.client('lambda')\n",
    "#data = json.loads(sys.argv[1])\n",
    "data =json.load(open('params_cluster.json'))\n",
    "ARGS=json.load(open('params_cluster.json'))\n",
    "INPUT_DATA_BUCKET=data[\"dataset\"][\"bucket\"]\n",
    "INPUT_DATA_FOLDER=data[\"dataset\"][\"folder\"]\n",
    "OUTPUT_DATA_BUCKET=\"qadams\"\n",
    "OUTPUT_DATA_FOLDER=\"analysis_outputs/\"\n",
    "#UPDATE_ID = data[\"output-id\"]\n",
    "UPDATE_ID='8a80832f61f9b61a0161fab7d5a0003b'\n",
    "SCRIPT_LOCATION = data[\"script_location\"]\n",
    "SCRIPT_NAME=data[\"script_name\"]\n",
    "#print SCRIPT_LOCATION,SCRIPT_NAME"
   ]
  },
  {
   "cell_type": "code",
   "execution_count": 10,
   "metadata": {},
   "outputs": [
    {
     "name": "stdout",
     "output_type": "stream",
     "text": [
      "{\"Cluster-id\": \"j-10SLMAB8KV65X\", \"success\": true}\n"
     ]
    }
   ],
   "source": [
    "clusters = emr_client.list_clusters()\n",
    "clusters = [c[\"Id\"] for c in clusters[\"Clusters\"] \n",
    "            if c[\"Status\"][\"State\"] in [\"RUNNING\", \"WAITING\"]]\n",
    "if not clusters:\n",
    "    print json.dumps({\"success\":False,\"message\":\"Error.No Active clusters\"})\n",
    "else:\n",
    "    cluster_id=clusters[0]\n",
    "    print json.dumps({\"success\":True,\"Cluster-id\":\"\"cluster_id})"
   ]
  },
  {
   "cell_type": "code",
   "execution_count": 18,
   "metadata": {},
   "outputs": [
    {
     "name": "stdout",
     "output_type": "stream",
     "text": [
      "{\"Message\": \"Scheduled! Your analysis has been correctly scheduled\", \"response\": \"Added step: {u'StepIds': [u's-LVNJKLW5K7FO', u's-3H1Y8EZGALCU0', u's-3188O871MRVI4', u's-1XETVD0NRCP34'], 'ResponseMetadata': {'RetryAttempts': 0, 'HTTPStatusCode': 200, 'RequestId': '2890a2ed-3314-11e8-a307-51767480ff71', 'HTTPHeaders': {'x-amzn-requestid': '2890a2ed-3314-11e8-a307-51767480ff71', 'date': 'Thu, 29 Mar 2018 05:43:51 GMT', 'content-length': '84', 'content-type': 'application/x-amz-json-1.1'}}}\", \"success\": true}\n"
     ]
    }
   ],
   "source": [
    "#trigger.py '{\"dataset\":{\"type\":\"csv\",\"prefix\":\"\",\"folder\":\"datasets/Mentorica/ITI/SERVER6\",\"bucket\":\"qadams\",\"has_headers\":true},\"master_node\":\"local\",\"output_id\":\"8a80832f6252202b0162522751290028\",\n",
    "#\"output_bucket\":\"qadams\",\"output_folder\":\"analysis_outputs/8a80832f6252202b0162522751290028\",\n",
    "#\"script_location\":\"s3://qadams/analysis_scripts/timeseries/arima.tar.gz\",\"script_name\":\"arima.py\",\"name\":\"ARIMA\",\n",
    "#\"headers\":{\"metric_name\":[\"4\",\"3\"],\"metric_value\":[\"7\"],\"date\":[\"1\"],\"d\":\"0\",\"p\":\"0\",\"q\":\"1\"}}'\n",
    "\n",
    "\n",
    "payload='{\"output_path\": \"%s\", \"update-id\":\"%s\",\"SCRIPT\":\"%s\",\"SCRIPT_NAME\":\"%s\",\"ARGS\":\"%s\"}' %(OUTPUT_DATA_BUCKET+\"/\"+OUTPUT_DATA_FOLDER,UPDATE_ID,SCRIPT_LOCATION,SCRIPT_NAME,ARGS)\n",
    "\n",
    "d = json.loads(boto3.client('lambda').invoke( \\\n",
    "            FunctionName='EMR_Jobflow', \\\n",
    "            Payload= payload \\\n",
    "            )[\"Payload\"].read())\n",
    "#print d\n",
    "if(\"Added step:\" in d):\n",
    "    print json.dumps({\"success\":True,\"Message\":\"Scheduled! Your analysis has been correctly scheduled\",\"response\":d})\n",
    "#trigger.py '{\"dataset\":{\"type\":\"csv\",\"prefix\":\"\",\"folder\":\"datasets/Mentorica/ITI/SERVER6\",\"bucket\":\"qadams\",\"has_headers\":true},\"master_node\":\"local\",\"output_id\":\"8a80832f6252202b0162522751290028\",\"output_bucket\":\"qadams\",\"output_folder\":\"analysis_outputs/8a80832f6252202b0162522751290028\",\"script_location\":\"s3://qadams/analysis_scripts/timeseries/arima.tar.gz\",\"script_name\":\"arima.py\",\"name\":\"ARIMA\",\"headers\":{\"metric_name\":[\"4\",\"3\"],\"metric_value\":[\"7\"],\"date\":[\"1\"],\"d\":\"0\",\"p\":\"0\",\"q\":\"1\"}}'\n",
    "#'{\"dataset\":{\"type\":\"csv\",\"prefix\":\"test_tmp.csv\",\"folder\":\"event_count/\",\"bucket\":\"daimler-phase1\"},\"master_node\":\"local\",\"output_id\":\"ff80818161f972970161f9975fc0001d\",\"script\":\"s3://daimlerdemotemp/daimlerdemotemp\",\"name\":\"Clickstream KMEAN\",\"headers\":[{\"feature\":[\"10\"]},{\"session_id\":[\"0\"]},{\"session_time\":[\"20\"]},{\"k\":\"3\"}]}'\n",
    "#update_flag = wait_for_steps_completion(emr_client,cluster_id,0)\n"
   ]
  },
  {
   "cell_type": "code",
   "execution_count": null,
   "metadata": {
    "collapsed": true
   },
   "outputs": [],
   "source": [
    "if update_flag:\n",
    "    client = boto3.client('lambda')\n",
    "    d = json.loads(boto3.client('lambda').invoke(\n",
    "            FunctionName='workflow_postgre_update',\n",
    "            Payload='{\"output_path\": \"%s\", \"update-id\":\"%s\"}' %(OUTPUT_DATA_BUCKET+\"/\"+OUTPUT_DATA_FOLDER,UPDATE_ID)\n",
    "            )[\"Payload\"].read())\n",
    "            \n",
    "print d\n",
    "    \n",
    "#print json.dumps({\"success\": True})"
   ]
  },
  {
   "cell_type": "code",
   "execution_count": 49,
   "metadata": {
    "collapsed": true
   },
   "outputs": [],
   "source": [
    "def wait_for_steps_completion(emr_client, emr_cluster_id, max_attempts):\n",
    "#max_attempts=0\n",
    "    sleep_seconds = 30\n",
    "    num_attempts = 0\n",
    "\n",
    "    while True:\n",
    "        response = emr_client.list_steps(\n",
    "            ClusterId=cluster_id,\n",
    "            StepStates=['PENDING', 'CANCEL_PENDING', 'RUNNING']\n",
    "        )\n",
    "        num_attempts += 1\n",
    "        active_aws_emr_steps = response['Steps']\n",
    "        print active_aws_emr_steps \n",
    "        if active_aws_emr_steps:\n",
    "            if 0 < max_attempts <= num_attempts:\n",
    "                raise Exception(\n",
    "                    'Max attempts exceeded while waiting for AWS EMR steps completion. Last response:\\n'\n",
    "                    + json.dumps(response, indent=3, default=str)\n",
    "                )\n",
    "            time.sleep(sleep_seconds)\n",
    "        else:\n",
    "            print 'in else part'\n",
    "            return True"
   ]
  }
 ],
 "metadata": {
  "kernelspec": {
   "display_name": "Python 2",
   "language": "python",
   "name": "python2"
  },
  "language_info": {
   "codemirror_mode": {
    "name": "ipython",
    "version": 2
   },
   "file_extension": ".py",
   "mimetype": "text/x-python",
   "name": "python",
   "nbconvert_exporter": "python",
   "pygments_lexer": "ipython2",
   "version": "2.7.13"
  }
 },
 "nbformat": 4,
 "nbformat_minor": 2
}
